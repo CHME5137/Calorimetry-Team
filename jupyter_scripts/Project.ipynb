{
 "cells": [
  {
   "cell_type": "code",
   "execution_count": 1,
   "metadata": {},
   "outputs": [],
   "source": [
    "import numpy as np\n",
    "import pandas as pd\n",
    "import matplotlib.pyplot as plt\n",
    "import os "
   ]
  },
  {
   "cell_type": "code",
   "execution_count": 2,
   "metadata": {},
   "outputs": [
    {
     "data": {
      "text/plain": [
       "'/home/mani.na'"
      ]
     },
     "execution_count": 2,
     "metadata": {},
     "output_type": "execute_result"
    }
   ],
   "source": [
    "os.getcwd()"
   ]
  },
  {
   "cell_type": "code",
   "execution_count": 3,
   "metadata": {},
   "outputs": [],
   "source": [
    "M0 = 0.15 #mM   #It is the initial concentration of macromolecule\n",
    "L0 = 1 #mM      #It is the initial concentration of the ligand\n",
    "V = 800 #uL     #It is the initial volume of the solution\n",
    "v0 = 9.975 #uL           #It is the volume of ligand injected (aliquot)\n",
    "Ka = 0.00004        #Initial guess for equilibrium concentration"
   ]
  },
  {
   "cell_type": "code",
   "execution_count": 4,
   "metadata": {},
   "outputs": [
    {
     "name": "stdout",
     "output_type": "stream",
     "text": [
      "[0.14812969]\n",
      "[0.14812969 0.1462827 ]\n",
      "[0.14812969 0.1462827  0.14445873]\n",
      "[0.14812969 0.1462827  0.14445873 0.14265751]\n",
      "[0.14812969 0.1462827  0.14445873 0.14265751 0.14087875]\n",
      "[0.14812969 0.1462827  0.14445873 0.14265751 0.14087875 0.13912217]\n",
      "[0.14812969 0.1462827  0.14445873 0.14265751 0.14087875 0.13912217\n",
      " 0.13738749]\n",
      "[0.14812969 0.1462827  0.14445873 0.14265751 0.14087875 0.13912217\n",
      " 0.13738749 0.13567444]\n",
      "[0.14812969 0.1462827  0.14445873 0.14265751 0.14087875 0.13912217\n",
      " 0.13738749 0.13567444 0.13398275]\n",
      "[0.14812969 0.1462827  0.14445873 0.14265751 0.14087875 0.13912217\n",
      " 0.13738749 0.13567444 0.13398275 0.13231215]\n",
      "[0.14812969 0.1462827  0.14445873 0.14265751 0.14087875 0.13912217\n",
      " 0.13738749 0.13567444 0.13398275 0.13231215 0.13066239]\n",
      "[0.14812969 0.1462827  0.14445873 0.14265751 0.14087875 0.13912217\n",
      " 0.13738749 0.13567444 0.13398275 0.13231215 0.13066239 0.12903319]\n",
      "[0.14812969 0.1462827  0.14445873 0.14265751 0.14087875 0.13912217\n",
      " 0.13738749 0.13567444 0.13398275 0.13231215 0.13066239 0.12903319\n",
      " 0.12742431]\n",
      "[0.14812969 0.1462827  0.14445873 0.14265751 0.14087875 0.13912217\n",
      " 0.13738749 0.13567444 0.13398275 0.13231215 0.13066239 0.12903319\n",
      " 0.12742431 0.12583548]\n",
      "[0.14812969 0.1462827  0.14445873 0.14265751 0.14087875 0.13912217\n",
      " 0.13738749 0.13567444 0.13398275 0.13231215 0.13066239 0.12903319\n",
      " 0.12742431 0.12583548 0.12426647]\n",
      "[0.14812969 0.1462827  0.14445873 0.14265751 0.14087875 0.13912217\n",
      " 0.13738749 0.13567444 0.13398275 0.13231215 0.13066239 0.12903319\n",
      " 0.12742431 0.12583548 0.12426647 0.12271703]\n",
      "[0.14812969 0.1462827  0.14445873 0.14265751 0.14087875 0.13912217\n",
      " 0.13738749 0.13567444 0.13398275 0.13231215 0.13066239 0.12903319\n",
      " 0.12742431 0.12583548 0.12426647 0.12271703 0.1211869 ]\n",
      "[0.14812969 0.1462827  0.14445873 0.14265751 0.14087875 0.13912217\n",
      " 0.13738749 0.13567444 0.13398275 0.13231215 0.13066239 0.12903319\n",
      " 0.12742431 0.12583548 0.12426647 0.12271703 0.1211869  0.11967585]\n",
      "[0.14812969 0.1462827  0.14445873 0.14265751 0.14087875 0.13912217\n",
      " 0.13738749 0.13567444 0.13398275 0.13231215 0.13066239 0.12903319\n",
      " 0.12742431 0.12583548 0.12426647 0.12271703 0.1211869  0.11967585\n",
      " 0.11818364]\n",
      "[0.14812969 0.1462827  0.14445873 0.14265751 0.14087875 0.13912217\n",
      " 0.13738749 0.13567444 0.13398275 0.13231215 0.13066239 0.12903319\n",
      " 0.12742431 0.12583548 0.12426647 0.12271703 0.1211869  0.11967585\n",
      " 0.11818364 0.11671004]\n",
      "[0.14812969 0.1462827  0.14445873 0.14265751 0.14087875 0.13912217\n",
      " 0.13738749 0.13567444 0.13398275 0.13231215 0.13066239 0.12903319\n",
      " 0.12742431 0.12583548 0.12426647 0.12271703 0.1211869  0.11967585\n",
      " 0.11818364 0.11671004 0.11525481]\n",
      "[0.14812969 0.1462827  0.14445873 0.14265751 0.14087875 0.13912217\n",
      " 0.13738749 0.13567444 0.13398275 0.13231215 0.13066239 0.12903319\n",
      " 0.12742431 0.12583548 0.12426647 0.12271703 0.1211869  0.11967585\n",
      " 0.11818364 0.11671004 0.11525481 0.11381773]\n",
      "[0.14812969 0.1462827  0.14445873 0.14265751 0.14087875 0.13912217\n",
      " 0.13738749 0.13567444 0.13398275 0.13231215 0.13066239 0.12903319\n",
      " 0.12742431 0.12583548 0.12426647 0.12271703 0.1211869  0.11967585\n",
      " 0.11818364 0.11671004 0.11525481 0.11381773 0.11239856]\n",
      "[0.14812969 0.1462827  0.14445873 0.14265751 0.14087875 0.13912217\n",
      " 0.13738749 0.13567444 0.13398275 0.13231215 0.13066239 0.12903319\n",
      " 0.12742431 0.12583548 0.12426647 0.12271703 0.1211869  0.11967585\n",
      " 0.11818364 0.11671004 0.11525481 0.11381773 0.11239856 0.11099709]\n"
     ]
    }
   ],
   "source": [
    "L = []\n",
    "M = []\n",
    "for i in range(1,25):\n",
    "        l = L0*(1-(1-(v0/V))**i)\n",
    "        m = M0*(1-(v0/V))**i\n",
    "        L = np.append(L,l)\n",
    "        M = np.append(M,m)\n",
    "        print(M)"
   ]
  },
  {
   "cell_type": "code",
   "execution_count": 5,
   "metadata": {},
   "outputs": [
    {
     "name": "stdout",
     "output_type": "stream",
     "text": [
      "1\n",
      "2\n",
      "3\n",
      "4\n",
      "5\n",
      "6\n",
      "7\n",
      "8\n",
      "9\n",
      "10\n",
      "11\n",
      "12\n",
      "13\n",
      "14\n",
      "15\n",
      "16\n",
      "17\n",
      "18\n",
      "19\n",
      "20\n",
      "21\n",
      "22\n",
      "23\n"
     ]
    },
    {
     "ename": "IndexError",
     "evalue": "index 24 is out of bounds for axis 0 with size 24",
     "output_type": "error",
     "traceback": [
      "\u001b[0;31m---------------------------------------------------------------------------\u001b[0m",
      "\u001b[0;31mIndexError\u001b[0m                                Traceback (most recent call last)",
      "\u001b[0;32m<ipython-input-5-c05c9add39b3>\u001b[0m in \u001b[0;36m<module>\u001b[0;34m\u001b[0m\n\u001b[1;32m      1\u001b[0m \u001b[0mML\u001b[0m\u001b[0;34m=\u001b[0m\u001b[0;34m[\u001b[0m\u001b[0;34m]\u001b[0m\u001b[0;34m\u001b[0m\u001b[0;34m\u001b[0m\u001b[0m\n\u001b[1;32m      2\u001b[0m \u001b[0;32mfor\u001b[0m \u001b[0mi\u001b[0m \u001b[0;32min\u001b[0m \u001b[0mrange\u001b[0m\u001b[0;34m(\u001b[0m\u001b[0;36m1\u001b[0m\u001b[0;34m,\u001b[0m\u001b[0;36m26\u001b[0m\u001b[0;34m)\u001b[0m\u001b[0;34m:\u001b[0m\u001b[0;34m\u001b[0m\u001b[0;34m\u001b[0m\u001b[0m\n\u001b[0;32m----> 3\u001b[0;31m     \u001b[0mml\u001b[0m \u001b[0;34m=\u001b[0m \u001b[0;34m(\u001b[0m\u001b[0;36m1\u001b[0m \u001b[0;34m+\u001b[0m \u001b[0mKa\u001b[0m\u001b[0;34m*\u001b[0m\u001b[0;34m(\u001b[0m\u001b[0mM\u001b[0m\u001b[0;34m[\u001b[0m\u001b[0mi\u001b[0m\u001b[0;34m]\u001b[0m\u001b[0;34m+\u001b[0m\u001b[0mL\u001b[0m\u001b[0;34m[\u001b[0m\u001b[0mi\u001b[0m\u001b[0;34m]\u001b[0m\u001b[0;34m)\u001b[0m \u001b[0;34m-\u001b[0m \u001b[0mnp\u001b[0m\u001b[0;34m.\u001b[0m\u001b[0msqrt\u001b[0m\u001b[0;34m(\u001b[0m\u001b[0;34m(\u001b[0m\u001b[0;36m1\u001b[0m\u001b[0;34m+\u001b[0m\u001b[0;34m(\u001b[0m\u001b[0mKa\u001b[0m\u001b[0;34m*\u001b[0m\u001b[0;34m(\u001b[0m\u001b[0mM\u001b[0m\u001b[0;34m[\u001b[0m\u001b[0mi\u001b[0m\u001b[0;34m]\u001b[0m\u001b[0;34m+\u001b[0m\u001b[0mL\u001b[0m\u001b[0;34m[\u001b[0m\u001b[0mi\u001b[0m\u001b[0;34m]\u001b[0m\u001b[0;34m)\u001b[0m\u001b[0;34m)\u001b[0m\u001b[0;34m)\u001b[0m\u001b[0;34m**\u001b[0m\u001b[0;36m2\u001b[0m \u001b[0;34m-\u001b[0m \u001b[0;36m4\u001b[0m\u001b[0;34m*\u001b[0m\u001b[0;34m(\u001b[0m\u001b[0mKa\u001b[0m\u001b[0;34m**\u001b[0m\u001b[0;36m2\u001b[0m\u001b[0;34m)\u001b[0m\u001b[0;34m*\u001b[0m\u001b[0mM\u001b[0m\u001b[0;34m[\u001b[0m\u001b[0mi\u001b[0m\u001b[0;34m]\u001b[0m\u001b[0;34m*\u001b[0m\u001b[0mL\u001b[0m\u001b[0;34m[\u001b[0m\u001b[0mi\u001b[0m\u001b[0;34m]\u001b[0m\u001b[0;34m)\u001b[0m\u001b[0;34m)\u001b[0m\u001b[0;34m/\u001b[0m\u001b[0;34m(\u001b[0m\u001b[0;36m2\u001b[0m\u001b[0;34m*\u001b[0m\u001b[0mKa\u001b[0m\u001b[0;34m)\u001b[0m\u001b[0;34m\u001b[0m\u001b[0;34m\u001b[0m\u001b[0m\n\u001b[0m\u001b[1;32m      4\u001b[0m     \u001b[0mML\u001b[0m \u001b[0;34m=\u001b[0m \u001b[0mnp\u001b[0m\u001b[0;34m.\u001b[0m\u001b[0mappend\u001b[0m\u001b[0;34m(\u001b[0m\u001b[0mML\u001b[0m\u001b[0;34m,\u001b[0m\u001b[0mml\u001b[0m\u001b[0;34m)\u001b[0m\u001b[0;34m\u001b[0m\u001b[0;34m\u001b[0m\u001b[0m\n\u001b[1;32m      5\u001b[0m     \u001b[0mprint\u001b[0m\u001b[0;34m(\u001b[0m\u001b[0mlen\u001b[0m\u001b[0;34m(\u001b[0m\u001b[0mML\u001b[0m\u001b[0;34m)\u001b[0m\u001b[0;34m)\u001b[0m\u001b[0;34m\u001b[0m\u001b[0;34m\u001b[0m\u001b[0m\n",
      "\u001b[0;31mIndexError\u001b[0m: index 24 is out of bounds for axis 0 with size 24"
     ]
    }
   ],
   "source": [
    "ML=[]\n",
    "for i in range(1,26):\n",
    "    ml = (1 + Ka*(M[i]+L[i]) - np.sqrt((1+(Ka*(M[i]+L[i])))**2 - 4*(Ka**2)*M[i]*L[i]))/(2*Ka)\n",
    "    ML = np.append(ML,ml)\n",
    "    print(len(ML))"
   ]
  },
  {
   "cell_type": "code",
   "execution_count": 6,
   "metadata": {},
   "outputs": [],
   "source": [
    "Q = np.array([-185.315423943376,\n",
    "-179.939055414854,\n",
    "-183.457728240087,\n",
    "-191.176429780344,\n",
    "-182.196113318918,\n",
    "-202.869937496969,\n",
    "-174.992080329543,\n",
    "-166.02093179291,\n",
    "-152.671183355512,\n",
    "-167.386610149261,\n",
    "-143.628932180358,\n",
    "-90.4945842915537,\n",
    "-41.209851923266,\n",
    "-20.7413638921479,\n",
    "-17.3666990922359,\n",
    "-20.0187765730611,\n",
    "-18.1249168607129,\n",
    "-20.9994727626293,\n",
    "-11.7827178979242,\n",
    "-19.3940871475546,\n",
    "-10.2007214419206,\n",
    "-12.8357808141901,\n",
    "-9.93548436910941])   ##uJ"
   ]
  },
  {
   "cell_type": "code",
   "execution_count": 7,
   "metadata": {},
   "outputs": [
    {
     "data": {
      "image/png": "[encoded data removed]",
      "text/plain": [
       "<Figure size 432x288 with 1 Axes>"
      ]
     },
     "metadata": {
      "needs_background": "light"
     },
     "output_type": "display_data"
    }
   ],
   "source": [
    "plt.plot(ML,Q,marker='.',linestyle='None')\n",
    "plt.xlabel('[ML]')\n",
    "plt.ylabel('Q')\n",
    "plt.title('Test to check plot on python')\n",
    "plt.savefig('Check_for_python.png',dpi=300)"
   ]
  },
  {
   "cell_type": "code",
   "execution_count": null,
   "metadata": {},
   "outputs": [],
   "source": [
    "def Heat(ML):\n",
    "     Q = (v0*delH\n",
    "    return "
   ]
  }
 ],
 "metadata": {
  "kernelspec": {
   "display_name": "Python 3",
   "language": "python",
   "name": "python3"
  },
  "language_info": {
   "codemirror_mode": {
    "name": "ipython",
    "version": 3
   },
   "file_extension": ".py",
   "mimetype": "text/x-python",
   "name": "python",
   "nbconvert_exporter": "python",
   "pygments_lexer": "ipython3",
   "version": "3.7.4"
  }
 },
 "nbformat": 4,
 "nbformat_minor": 5
}
